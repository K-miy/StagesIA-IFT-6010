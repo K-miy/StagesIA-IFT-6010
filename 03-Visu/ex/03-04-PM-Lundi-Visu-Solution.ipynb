{
 "cells": [
  {
   "cell_type": "markdown",
   "metadata": {},
   "source": [
    "# Visualisation de Données : Des neurosciences à la pratique\n",
    "\n",
    "Dans le domaine de l'apprentissage automatique, la visualisation de données ne consiste pas uniquement à créer des graphiques sophistiqués pour les rapports; il est largement utilisé dans le travail quotidien pour toutes les phases d'un projet.\n",
    "\n",
    "Pour commencer, l'exploration visuelle des données est la première chose à faire lorsque l'on est confronté à une nouvelle tâche. Nous effectuons des contrôles et des analyses préliminaires à l'aide de graphiques et de tableaux pour résumer les données et omettre les détails les moins importants. Il est beaucoup plus pratique pour nous, humains, de saisir les points principaux de cette façon plutôt qu’en lisant de nombreuses lignes de données brutes. Il est étonnant de constater à quel point on peut tirer parti de graphiques apparemment simples créés avec les outils de visualisation disponibles.\n",
    "\n",
    "Ensuite, lorsque nous analysons les performances d'un modèle ou que nous rapportons des résultats, nous utilisons souvent des graphiques et des images. Parfois, pour interpréter un modèle complexe, il est nécessaire de projeter des espaces de grande dimension sur des figures 2D ou 3D plus intelligibles.\n",
    "\n",
    "Dans l’ensemble, la visualisation est un moyen relativement rapide d’apprendre quelque chose de nouveau sur vos données. Il est donc essentiel d’apprendre ses techniques les plus utiles et de les intégrer à votre boîte à outils ML quotidienne.\n",
    "\n",
    "Dans cet atelier, nous allons acquérir une base théorique de la visualisation ainsi qu'une expérience pratique de l’exploration visuelle des données à l’aide de bibliothèques populaires telles que <code>pandas</code>, <code>matplotlib</code> et <code>seaborn</code>.\n",
    "\n"
   ]
  },
  {
   "cell_type": "markdown",
   "metadata": {},
   "source": [
    "## Plan\n",
    "\n",
    "1. [La théorie des neurosciences](#1)\n",
    "    1. [Pourquoi visualiser ?](#11)\n",
    "    2. [Estimation](#12)\n",
    "    3. [Construction](#13)\n",
    "    4. [Detection](#14)\n",
    "2. [La pratique en python](#2)\n",
    "    1. [Les données](#21)\n",
    "    2. [Visualisation d'une variable](#22)\n",
    "        1. [Quantitative](#221)\n",
    "        2. [Categorie ou binaire](#222)\n",
    "    3. [Visualisation Multivariée](#23)\n",
    "        1. [Quantitative–Quantitative](#231)\n",
    "        2. [Quantitative–Categorie](#232)\n",
    "        3. [Categorie–Categorie](#233)\n",
    "    4. [Dataset complet](#24)\n",
    "        1. [Approche Naive](#241)\n",
    "        2. [Reduction de la dimensionalité](#242)\n",
    "        3. [t-SNE](#243)\n",
    "3. [Exercices de plus ... Titanic](#3)"
   ]
  },
  {
   "cell_type": "markdown",
   "metadata": {},
   "source": [
    "## Setup\n",
    "\n",
    "Import de tous les packages nécessaires"
   ]
  },
  {
   "cell_type": "code",
   "execution_count": null,
   "metadata": {},
   "outputs": [],
   "source": [
    "from io import StringIO\n",
    "# Matrices et manipulateurs de données\n",
    "import numpy as np\n",
    "import pandas as pd\n",
    "\n",
    "# Générateurs de graphiques\n",
    "import matplotlib.pyplot as plt\n",
    "import matplotlib.pylab as pylab\n",
    "import matplotlib.style as style\n",
    "import seaborn as sns\n",
    "\n",
    "#Styling\n",
    "style.use('ggplot')\n",
    "\n",
    "pylab.rcParams['figure.figsize'] = (10,10)\n",
    "\n",
    "# Theme\n",
    "sns.set()\n",
    "# pour exercises\n",
    "sns.set_context(\"notebook\")\n"
   ]
  },
  {
   "cell_type": "markdown",
   "metadata": {},
   "source": [
    "##  Comment les humains voient les données ?<a id=\"1\"/>\n",
    "___\n",
    "### Pourquoi visualiser ?<a id=\"11\"/>\n",
    "\n",
    "Si on présente les données de la bonne manière, leur relation est évidente de manière pré-attentive"
   ]
  },
  {
   "cell_type": "code",
   "execution_count": null,
   "metadata": {},
   "outputs": [],
   "source": [
    "# Raw data ... et illumination\n",
    "raw = pd.read_csv(StringIO('''x;y\n",
    "1.972;1.236\n",
    "1.112;1.994\n",
    "0;1.009\n",
    "0.665;1.942\n",
    "0.235;0.356\n",
    "0.247;1.658\n",
    "1.275;1.961\n",
    "0.702;0.043\n",
    "1.76;0.35\n",
    "1.691;0.277\n",
    "1.628;1.778\n",
    "1.957;1.29\n",
    "0.111;0.542\n",
    "0.902;0.005\n",
    "0.598;0.085\n",
    "1.613;1.79\n",
    "1.298;1.955\n",
    "0.651;1.937\n",
    "1.949;1.316\n",
    "0.099;0.567\n",
    "0.862;0.01\n",
    "0.027;0.768\n",
    "0.706;1.956\n",
    "1.042;1.999'''), sep=';')"
   ]
  },
  {
   "cell_type": "markdown",
   "metadata": {},
   "source": [
    "Présenter ces données sous un axe temporel ne donne pas grand chose :"
   ]
  },
  {
   "cell_type": "code",
   "execution_count": null,
   "metadata": {},
   "outputs": [],
   "source": [
    "sns.lineplot(x=raw.index,y='x',data=raw)\n",
    "sns.lineplot(x=raw.index,y='y',data=raw)"
   ]
  },
  {
   "cell_type": "markdown",
   "metadata": {},
   "source": [
    "Alors que les présenter relativement l'une à l'autre :"
   ]
  },
  {
   "cell_type": "code",
   "execution_count": null,
   "metadata": {},
   "outputs": [],
   "source": [
    "f, ax = plt.subplots(1,2,figsize=(10,5))\n",
    "ax[0].axis('equal')\n",
    "sns.scatterplot(x='x',y='y',data=raw, sizes=(0, 2), linewidth=0\n",
    "#                )\n",
    "                ,ax=ax[0])\n",
    "\n",
    "sns.lineplot(x=raw.index,y='x',data=raw,ax=ax[1])\n",
    "sns.lineplot(x=raw.index,y='y',data=raw,ax=ax[1])"
   ]
  },
  {
   "cell_type": "markdown",
   "metadata": {},
   "source": [
    "De la même manière, des données qui sont **statistiquement** \"identiques\" : "
   ]
  },
  {
   "cell_type": "code",
   "execution_count": null,
   "metadata": {},
   "outputs": [],
   "source": [
    "quartet = pd.read_csv(StringIO('''group;x;y\n",
    "A;10;8\n",
    "A;8;7\n",
    "A;13;7.6\n",
    "A;9;8.8\n",
    "A;11;8.3\n",
    "A;14;10\n",
    "A;6;7.2\n",
    "A;4;4.3\n",
    "A;12;10.8\n",
    "A;7;4.8\n",
    "A;5;5.7\n",
    "B;10;9.1\n",
    "B;8;8.1\n",
    "B;13;8.7\n",
    "B;9;8.8\n",
    "B;11;9.3\n",
    "B;14;8.1\n",
    "B;6;6.1\n",
    "B;4;3.1\n",
    "B;12;9.1\n",
    "B;7;7.3\n",
    "B;5;4.7\n",
    "C;10;7.5\n",
    "C;8;6.8\n",
    "C;13;12.7\n",
    "C;9;7.1\n",
    "C;11;7.8\n",
    "C;14;8.8\n",
    "C;6;6.1\n",
    "C;4;5.4\n",
    "C;12;8.2\n",
    "C;7;6.4\n",
    "C;5;5.7\n",
    "D;8;6.6\n",
    "D;8;5.8\n",
    "D;8;7.7\n",
    "D;8;8.8\n",
    "D;8;8.5\n",
    "D;8;7\n",
    "D;8;5.3\n",
    "D;19;12.5\n",
    "D;8;5.6\n",
    "D;8;7.9\n",
    "D;8;6.9'''), sep=';')\n",
    "\n",
    "quartet.groupby('group').describe()"
   ]
  },
  {
   "cell_type": "markdown",
   "metadata": {},
   "source": [
    "Peuvent présenter des relations particulières une fois affichées :"
   ]
  },
  {
   "cell_type": "code",
   "execution_count": null,
   "metadata": {},
   "outputs": [],
   "source": [
    "g = sns.FacetGrid(data=quartet,col='group')\n",
    "g.map(plt.scatter, \"x\", \"y\", alpha=.7)"
   ]
  },
  {
   "cell_type": "markdown",
   "metadata": {},
   "source": [
    "## Estimation <a id=\"12\"/>"
   ]
  },
  {
   "cell_type": "code",
   "execution_count": null,
   "metadata": {},
   "outputs": [],
   "source": [
    "autos = pd.read_csv('https://gist.githubusercontent.com/seankross/a412dfbd88b3db70b74b/raw/5f23f993cd87c283ce766e7ac6b329ee7cc2e1d1/mtcars.csv')\n",
    "autos.index=autos['model']\n",
    "#autos=autos.drop(columns=['model'])\n",
    "autos"
   ]
  },
  {
   "cell_type": "markdown",
   "metadata": {},
   "source": [
    "### Couleur"
   ]
  },
  {
   "cell_type": "code",
   "execution_count": null,
   "metadata": {},
   "outputs": [],
   "source": [
    "autos = autos.sort_index(ascending=False)\n",
    "f, ax = plt.subplots(1,1,figsize=(10, 10))\n",
    "sns.heatmap(autos.loc[:,['mpg']],cmap='coolwarm')"
   ]
  },
  {
   "cell_type": "code",
   "execution_count": null,
   "metadata": {},
   "outputs": [],
   "source": [
    "autos = autos.sort_values('mpg',ascending=False)\n",
    "f, ax = plt.subplots(1,1,figsize=(10, 10))\n",
    "sns.heatmap(autos.loc[:,['mpg']],cmap='coolwarm')"
   ]
  },
  {
   "cell_type": "code",
   "execution_count": null,
   "metadata": {},
   "outputs": [],
   "source": [
    "autos = autos.sort_values('mpg',ascending=False)\n",
    "f, ax = plt.subplots(1,1,figsize=(10, 10))\n",
    "sns.heatmap(autos.loc[:,['mpg']],cmap='Blues')"
   ]
  },
  {
   "cell_type": "code",
   "execution_count": null,
   "metadata": {},
   "outputs": [],
   "source": [
    "autos = autos.sort_index(ascending=False)\n",
    "f, ax = plt.subplots(1,1,figsize=(10, 10))\n",
    "sns.heatmap(autos.loc[:,['mpg']],cmap='Blues')"
   ]
  },
  {
   "cell_type": "code",
   "execution_count": null,
   "metadata": {},
   "outputs": [],
   "source": [
    "autos = autos.sort_values('mpg',ascending=False)\n",
    "f, ax = plt.subplots(1,1,figsize=(10, 10))\n",
    "img = sns.heatmap(autos.loc[:,['mpg']],cmap='Blues',vmin=0)"
   ]
  },
  {
   "cell_type": "markdown",
   "metadata": {},
   "source": [
    "### Aire"
   ]
  },
  {
   "cell_type": "code",
   "execution_count": null,
   "metadata": {},
   "outputs": [],
   "source": [
    "plt.figure(figsize = (8, 8))\n",
    "autos = autos.sort_values('mpg',ascending=True)\n",
    "\n",
    "#Legend\n",
    "def quantile_legend(ax,serie,mq=4,loc='right center',title='title',scale=1):\n",
    "    l = []\n",
    "    size_labels = []\n",
    "    #mq =4 # max quantiles\n",
    "    for i in range(mq):\n",
    "        l.append( ax.scatter([],[], s=scale*serie.quantile(i/mq),color='#4C72B0'))\n",
    "        size_labels.append(int(autos.mpg.quantile(i/mq)))\n",
    "    leg = ax.legend(l, size_labels, loc=loc, title=title )\n",
    "\n",
    "\n",
    "# Scatter grid\n",
    "g=[]\n",
    "g.append(list(range(4))*8)\n",
    "g.append(np.repeat(np.array(list(range(8))),4))\n",
    "ax = sns.scatterplot(g[0],g[1],s=autos['mpg']*10)\n",
    "\n",
    "quantile_legend(ax,autos.mpg,4,'center right','MPG',10)    \n",
    "\n",
    "# Visual preferences\n",
    "ax.grid(False)\n",
    "ax.set_yticklabels('')    \n",
    "ax.set_xticklabels('')\n",
    "ax.set_ylim(-.5, None)\n",
    "ax.set_xlim(-.5, 4.8)\n",
    "\n",
    "# Scatter Labels\n",
    "def label_point(x, y, val, ax):\n",
    "    for i in range(0,len(x)):\n",
    "        ax.annotate(val[i],xy=(x[i],y[i]-.2),ha='center',va='top',size=9)\n",
    "label_point(g[0],g[1], autos['model'][:], plt.gca())\n"
   ]
  },
  {
   "cell_type": "markdown",
   "metadata": {},
   "source": [
    "\"Bubble charts\" utilise la taille d'un point pour exprimer son poids. Dans ces graphiques les données aberrantes ont un poids moindre (petite taille)."
   ]
  },
  {
   "cell_type": "code",
   "execution_count": null,
   "metadata": {},
   "outputs": [],
   "source": [
    "p = np.random.sample(100)\n",
    "n = np.random.poisson(10,100)^2\n",
    "y = np.random.binomial(n,p,100)\n",
    "\n",
    "df = pd.DataFrame({'p':p,'n':n,'y':y/n})"
   ]
  },
  {
   "cell_type": "code",
   "execution_count": null,
   "metadata": {},
   "outputs": [],
   "source": [
    "fig, ax = plt.subplots(1,2,figsize = (16, 8))\n",
    "quantile_legend(ax[0],df.n,2,'upper left','n',5)\n",
    "ax[0].scatter(df.p,df.y,s=df.n*5, alpha=2/3)\n",
    "ax[1].scatter(df.p,df.y)"
   ]
  },
  {
   "cell_type": "code",
   "execution_count": null,
   "metadata": {},
   "outputs": [],
   "source": [
    "p = list(range(1,101))\n",
    "n = np.random.poisson(10,100)^2\n",
    "y = np.random.binomial(n,0.5,100)/n\n",
    "\n",
    "df = pd.DataFrame({'p':p,'n':n,'y':y/n})"
   ]
  },
  {
   "cell_type": "code",
   "execution_count": null,
   "metadata": {},
   "outputs": [],
   "source": [
    "fig, ax = plt.subplots(1,2,figsize = (16, 8))\n",
    "quantile_legend(ax[0],df.n,2,'upper right','n',5)\n",
    "ax[0].scatter(df.p,df.y,s=df.n*5, alpha=2/3)\n",
    "ax[1].scatter(df.p,df.y)"
   ]
  },
  {
   "cell_type": "markdown",
   "metadata": {},
   "source": [
    "### Angle"
   ]
  },
  {
   "cell_type": "code",
   "execution_count": null,
   "metadata": {},
   "outputs": [],
   "source": [
    "import math\n",
    "\n",
    "\n",
    "autos = autos.sort_values('mpg',ascending=True)\n",
    "\n",
    "def segment(df, low, hi):\n",
    "    rge = hi-low\n",
    "    fract = df.mpg.apply(lambda x : (x-low)/hi) #(df.mpg -low) / hi\n",
    "    theta = fract.apply(lambda x: x*np.pi/2) #fract*np.pi/2\n",
    "    angdf = pd.DataFrame()\n",
    "    angdf['x'] = theta.apply(lambda x: math.cos(x))\n",
    "    angdf['y'] = theta.apply(lambda x: math.sin(x))\n",
    "    return angdf\n",
    "\n",
    "fig, ax = plt.subplots(8,9,figsize = (9, 9))\n",
    "angdf = segment(autos, 0, autos.mpg.max())\n",
    "\n",
    "for i in range(8):\n",
    "    for j in range(9):\n",
    "        ax[i][j].set_yticklabels('')\n",
    "        ax[i][j].set_xticklabels('')\n",
    "        ax[i][j].set_ylim(-.05,1)\n",
    "        ax[i][j].set_xlim(-.05,1)  \n",
    "        \n",
    "for i in range(8):\n",
    "    for j in range(4):\n",
    "        v = i*4+j\n",
    "        ax[i][j].plot([0, angdf['x'][v]],[0,angdf['y'][v]])\n",
    "        ax[i][j].set_title(autos.model[v],size=8,pad=2)\n",
    "\n",
    "angdf = segment(autos, autos.mpg.min(), autos.mpg.max())\n",
    "for i in range(8):\n",
    "    for j in range(4):\n",
    "        v = i*4+j\n",
    "        ax[i][j+5].plot([0, angdf['x'][v]],[0,angdf['y'][v]])\n",
    "        ax[i][j+5].set_title(autos.model[v],size=8,pad=2)     "
   ]
  },
  {
   "cell_type": "markdown",
   "metadata": {},
   "source": [
    "To be continued ... In the meantime ..."
   ]
  },
  {
   "cell_type": "code",
   "execution_count": null,
   "metadata": {},
   "outputs": [],
   "source": [
    "random = np.random.uniform(10,0,32)\n",
    "autos = autos.sort_values('mpg',ascending=True)\n",
    "\n",
    "f, ax = plt.subplots(1,1,figsize=(10, 10))\n",
    "img = plt.barh(range(len(autos.model)),autos.mpg,left=random,align='center')\n",
    "ax.set_yticklabels(autos.model)\n",
    "ax.set_yticks(range(len(autos.model)))\n",
    "\n",
    "plt.show()"
   ]
  },
  {
   "cell_type": "code",
   "execution_count": null,
   "metadata": {},
   "outputs": [],
   "source": [
    "autos = autos.sort_values('mpg',ascending=True)\n",
    "\n",
    "f, ax = plt.subplots(1,1,figsize=(10, 10))\n",
    "img = plt.barh(range(len(autos.model)),autos.mpg,align='center')\n",
    "ax.set_yticklabels(autos.model)\n",
    "ax.set_yticks(range(len(autos.model)))\n",
    "\n",
    "plt.show()"
   ]
  },
  {
   "cell_type": "markdown",
   "metadata": {},
   "source": [
    "Les barres d'erreurs restent informativent même lorsqu'elles ne sont pas nécessairement alignées."
   ]
  },
  {
   "cell_type": "code",
   "execution_count": null,
   "metadata": {},
   "outputs": [],
   "source": [
    "x = list(range(10))\n",
    "y = np.random.uniform(5,0,10)\n",
    "e = np.random.uniform(3,0,10)\n",
    "\n",
    "f, ax = plt.subplots(1,1,figsize=(10, 10))\n",
    "img = plt.errorbar(x, y, yerr=e, fmt='o')\n",
    "plt.show()"
   ]
  },
  {
   "cell_type": "markdown",
   "metadata": {},
   "source": [
    "### Position\n",
    "\n",
    "#### Échelle non alignée"
   ]
  },
  {
   "cell_type": "code",
   "execution_count": null,
   "metadata": {},
   "outputs": [],
   "source": [
    "autos = autos.sort_values('mpg',ascending=True)\n",
    "\n",
    "fig, ax = plt.subplots(4,8,figsize = (20, 10))\n",
    "\n",
    "for i in range(3):\n",
    "    for j in range(8):\n",
    "        ax[i][j].set_xticklabels('')\n",
    "\n",
    "for i in range(4):\n",
    "    for j in range(8):\n",
    "        ax[i][j].set_yticklabels('')\n",
    "        ax[i][j].set_ylim(0,1)\n",
    "        ax[i][j].set_xlim(8,30)  \n",
    "        \n",
    "for i in range(4):\n",
    "    for j in range(8):\n",
    "        v = i*4+j\n",
    "        ax[i][j].scatter(autos.mpg[v],0.5)\n",
    "        ax[i][j].set_title(autos.model[v],size=8,pad=2)"
   ]
  },
  {
   "cell_type": "markdown",
   "metadata": {},
   "source": [
    "#### Échelle alignée"
   ]
  },
  {
   "cell_type": "code",
   "execution_count": null,
   "metadata": {
    "scrolled": false
   },
   "outputs": [],
   "source": [
    "autos = autos.sort_values('mpg',ascending=True)\n",
    "\n",
    "f, ax = plt.subplots(1,1,figsize=(10, 10))\n",
    "img = plt.scatter(autos.mpg,range(len(autos.model)))\n",
    "ax.set_yticklabels(autos.model)\n",
    "ax.set_yticks(range(len(autos.model)))\n",
    "\n",
    "plt.show()"
   ]
  },
  {
   "cell_type": "markdown",
   "metadata": {},
   "source": [
    "L'ordre reste TRÈS important."
   ]
  },
  {
   "cell_type": "code",
   "execution_count": null,
   "metadata": {},
   "outputs": [],
   "source": [
    "autos = autos.sort_index(ascending=True)\n",
    "\n",
    "f, ax = plt.subplots(1,1,figsize=(10, 10))\n",
    "img = plt.scatter(autos.mpg,range(len(autos.model)))\n",
    "ax.set_yticklabels(autos.model)\n",
    "ax.set_yticks(range(len(autos.model)))\n",
    "\n",
    "plt.show()"
   ]
  },
  {
   "cell_type": "markdown",
   "metadata": {},
   "source": [
    "Et ramener l'échelle à 0 n'est pas toujours une bonne idée, on limite la capacité à faire les ratios entres les valeurs"
   ]
  },
  {
   "cell_type": "code",
   "execution_count": null,
   "metadata": {},
   "outputs": [],
   "source": [
    "autos = autos.sort_values('mpg',ascending=True)\n",
    "\n",
    "f, ax = plt.subplots(1,1,figsize=(10, 10))\n",
    "img = plt.scatter(autos.mpg,range(len(autos.model)))\n",
    "ax.set_yticklabels(autos.model)\n",
    "ax.set_yticks(range(len(autos.model)))\n",
    "ax.set_xlim(0,35)\n",
    "\n",
    "plt.show()"
   ]
  },
  {
   "cell_type": "markdown",
   "metadata": {},
   "source": [
    "## And so on ... \n",
    "\n",
    "Parce qu'il y'a des choses qui sont plus faciles à faire en R qu'en Python ... on va maintenant passer à la pratique."
   ]
  },
  {
   "cell_type": "code",
   "execution_count": null,
   "metadata": {},
   "outputs": [],
   "source": [
    "# Hot ScatterPlot\n",
    "plt.figure(figsize = (12, 8))\n",
    "plt.rcParams['font.size'] = 18\n",
    "\n",
    "for cyl, mark in zip([4, 6, 8], ['d', '2', 'o']):\n",
    "    sub = autos[autos['cyl'] == cyl]\n",
    "    plt.scatter(sub['disp'], sub['mpg'], marker = mark, \n",
    "                s = 20 * np.square(autos['wt']), \n",
    "                c = sub['hp'], cmap = 'jet')\n",
    "\n",
    "cbar = plt.colorbar()\n",
    "cbar.ax.set_title('power (hp)')\n",
    "\n",
    "# Just for the legens \n",
    "plt.legend()\n",
    "plt.xlabel('displacement (cu in.)'); plt.ylabel('fuel efficiency (mpg)');\n",
    "\n",
    "size_labels = ['2', '3', '4', '5']\n",
    "shape_labels = ['4', '6', '8']\n",
    "\n",
    "l = [plt.scatter([],[], s=20 * x, edgecolors='none', color = 'blue') for x in [4,9,16,25]]\n",
    "s = [plt.scatter([],[], s=200, marker = m, edgecolors='none', color = 'blue') for m in 'd2o']\n",
    "\n",
    "\n",
    "leg = plt.legend(l, \n",
    "                 size_labels, ncol=4, frameon=True, fontsize=12,\n",
    "                handlelength=2, loc = (.4, 0.8), borderpad = 1.8,\n",
    "                handletextpad=1, title='weight (1000 lbs)', scatterpoints = 1)\n",
    "\n",
    "leg2 = plt.legend(s, \n",
    "                 shape_labels, ncol=3, frameon=True, fontsize=12,\n",
    "                handlelength=2, loc = (0.4, 0.55), borderpad = 1.8,\n",
    "                handletextpad=1, title='cylinders', scatterpoints = 1)\n",
    "\n",
    "plt.gca().add_artist(leg);\n",
    "plt.gca().add_artist(leg2);"
   ]
  },
  {
   "cell_type": "markdown",
   "metadata": {},
   "source": [
    "Pour la suite et la fin de cette présentation (en R), les notes de J. Hauser sont [à cette adresse](http://rpubs.com/jrauser/hhsd_notes). [Avec le code ici](https://github.com/jrauser/writing/blob/master/how_humans_see_data/hhsd_notes.Rmd)."
   ]
  },
  {
   "cell_type": "markdown",
   "metadata": {},
   "source": [
    "# La pratique en python <a id=\"2\"/>"
   ]
  },
  {
   "cell_type": "markdown",
   "metadata": {},
   "source": [
    "## Les données : Rétention client Telecom <a id=\"21\"/>\n",
    "\n",
    "Mais avant darriver aux données, initialisons notre environnement:"
   ]
  },
  {
   "cell_type": "code",
   "execution_count": null,
   "metadata": {},
   "outputs": [],
   "source": [
    "import numpy as np\n",
    "import pandas as pd\n",
    "\n",
    "# On s'épargne les warnings \n",
    "# juste à commenter les deux lignes suivantes si vous souhaitez les voir\n",
    "import warnings\n",
    "warnings.filterwarnings('ignore')\n",
    "\n",
    "# Matplotlib : la base\n",
    "import matplotlib.pyplot as plt\n",
    "\n",
    "# Seaborn : quelques trucs jolis en plus\n",
    "import seaborn as sns\n",
    "sns.set()\n",
    "\n",
    "# Pou rdu Web mieux vaut utiliser du SVG ... mais la on est en local on va utiliser du PNG\n",
    "#%config InlineBackend.figure_format = 'svg'"
   ]
  },
  {
   "cell_type": "markdown",
   "metadata": {},
   "source": [
    "Nous allons examiner les données relatives au désabonnement de la clientèle pour un opérateur de télécommunications. Nous allons charger cet ensemble de données dans un `DataFrame`:"
   ]
  },
  {
   "cell_type": "code",
   "execution_count": null,
   "metadata": {},
   "outputs": [],
   "source": [
    "df = pd.read_csv('telecom_churn.csv')"
   ]
  },
  {
   "cell_type": "markdown",
   "metadata": {},
   "source": [
    "Pour se familiariser avec nos données, regardons les 5 premières entrées en utilisant `head()`:"
   ]
  },
  {
   "cell_type": "code",
   "execution_count": null,
   "metadata": {},
   "outputs": [],
   "source": [
    "df.head()"
   ]
  },
  {
   "cell_type": "markdown",
   "metadata": {},
   "source": [
    "On peut déjà se débarasser de la colonne du numéro de téléphone qui ne donnera pas plus d'information que l'ID unique.\n",
    "\n",
    "Regardons aussi combien de données manquantes nous avons dans le dataset."
   ]
  },
  {
   "cell_type": "code",
   "execution_count": null,
   "metadata": {},
   "outputs": [],
   "source": [
    "df = df.drop('Phone number',axis=1)\n",
    "df.isna().sum()"
   ]
  },
  {
   "cell_type": "markdown",
   "metadata": {},
   "source": [
    "Et maintenant regardons à nouveau quelques données tirées au hasard:"
   ]
  },
  {
   "cell_type": "code",
   "execution_count": null,
   "metadata": {},
   "outputs": [],
   "source": [
    "df.sample(10)"
   ]
  },
  {
   "cell_type": "markdown",
   "metadata": {},
   "source": [
    "Voici une description de nos caractéristiques (dataset Kaggle):\n",
    "\n",
    "|  Name  | Description | Value Type | Statistical Type |\n",
    "|---         |---       |---     |---\n",
    "| **State** | State abbreviation (like KS = Kansas) | String | Categorical |\n",
    "| **Account length** | How long the client has been with the company | Numerical | Quantitative |\n",
    "| **Area code** | Phone number prefix | Numerical | Categorical |\n",
    "| **International plan** | International plan (on/off) | String, \"Yes\"/\"No\" | Categorical/Binary |\n",
    "| **Voice mail plan** | Voicemail (on/off) | String, \"Yes\"/\"No\" | Categorical/Binary |\n",
    "| **Number vmail messages** | Number of voicemail messages | Numerical | Quantitative |\n",
    "| **Total day minutes** |  Total duration of daytime calls | Numerical | Quantitative |\n",
    "| **Total day calls** | Total number of daytime calls  | Numerical | Quantitative |\n",
    "| **Total day charge** | Total charge for daytime services | Numerical | Quantitative |\n",
    "| **Total eve minutes** | Total duration of evening calls | Numerical | Quantitative |\n",
    "| **Total eve calls** | Total number of evening calls | Numerical | Quantitative |\n",
    "| **Total eve charge** | Total charge for evening services | Numerical | Quantitative |\n",
    "| **Total night minutes** | Total duration of nighttime calls | Numerical | Quantitative |\n",
    "| **Total night calls** | Total number of nighttime calls | Numerical | Quantitative |\n",
    "| **Total night charge** | Total charge for nighttime services | Numerical | Quantitative |\n",
    "| **Total intl minutes** | Total duration of international calls  | Numerical | Quantitative |\n",
    "| **Total intl calls** | Total number of international calls | Numerical | Quantitative |\n",
    "| **Total intl charge** | Total charge for international calls | Numerical | Quantitative |\n",
    "| **Customer service calls** | Number of calls to customer service | Numerical | Categorical/Ordinal |\n",
    "\n",
    "La dernière colonne de données, **Churn**, représente notre variable cible. C'est binaire: *True* indique que l'entreprise a finalement perdu ce client, et *False* indique que le client a été conservé. Plus tard, nous construirons des modèles qui prédisent cette fonctionnalité en fonction des fonctionnalités restantes. C'est pourquoi nous l'appelons la *cible*."
   ]
  },
  {
   "cell_type": "markdown",
   "metadata": {},
   "source": [
    "## Visualisation Univariée <a id=\"22\"/>\n",
    "\n",
    "L'analyse *univariée* examine une caractéristique à la fois. Lorsque nous analysons une entité de manière indépendante, nous nous intéressons généralement à la *distribution de ses valeurs* et ignorons les autres fonctionnalités de l'ensemble de données.\n",
    "\n",
    "Ci-dessous, nous examinerons différents types statistiques d’entités et les outils correspondants pour leur analyse visuelle individuelle.\n",
    "\n",
    "### Caractéristiques Quantitatives <a id=\"221\"/>\n",
    "\n",
    "*Les caractéristiques quantitatives* prennent des valeurs numériques ordonnées. Ces valeurs peuvent être *discrètes*, comme des nombres entiers, ou *continues*, comme des nombres réels, et expriment généralement un compte ou une mesure.\n",
    "\n",
    "#### Histogrammes et diagrammes de densité\n",
    "\n",
    "Le moyen le plus simple d'examiner la distribution d'une variable numérique consiste à tracer son *histogramme* à l'aide de la méthode de `DataFrame` [`hist()`](https://pandas.pydata.org/pandas-docs/stable/generated/pandas.DataFrame.hist.html)."
   ]
  },
  {
   "cell_type": "code",
   "execution_count": null,
   "metadata": {},
   "outputs": [],
   "source": [
    "features = ['Total day minutes', 'Total intl calls']\n",
    "df[features].hist(figsize=(10, 4));"
   ]
  },
  {
   "cell_type": "markdown",
   "metadata": {},
   "source": [
    "Un histogramme regroupe les valeurs dans *des groupes* de même plage de valeurs. La forme de l'histogramme peut contenir des indices sur le type de distribution sous-jacente: gaussienne, exponentielle, etc. Vous pouvez également repérer toute asymétrie dans sa forme lorsque la distribution est presque régulière mais présente quelques anomalies. Il est important de connaître la distribution des valeurs des caractéristiques lorsque vous utilisez des méthodes d’apprentissage automatique qui en supposent un type particulier, le plus souvent gaussien.\n",
    "\n",
    "Dans le graphique ci-dessus, nous voyons que la variable *Total des minutes du jour* est normalement distribuée, alors que *Total des appels intl* est nettement en biais à droite (sa queue est plus longue à droite).\n",
    "\n",
    "Il existe également une autre façon, souvent plus claire, de saisir la distribution: *diagrammes de densité* ou, plus formellement, *diagrammes de densité du noyau*. Ils peuvent être considérés comme une version [lissée](https://en.wikipedia.org/wiki/Kernel_smoother) de l'histogramme. Leur principal avantage par rapport à ces derniers est qu’ils ne dépendent pas de la taille des bacs. Créons des diagrammes de densité pour les deux mêmes variables:"
   ]
  },
  {
   "cell_type": "code",
   "execution_count": null,
   "metadata": {},
   "outputs": [],
   "source": [
    "df[features].plot(kind='density', subplots=True, layout=(1, 2), \n",
    "                  sharex=False, figsize=(10, 4));"
   ]
  },
  {
   "cell_type": "markdown",
   "metadata": {},
   "source": [
    "Il est également possible de tracer une distribution d'observations avec le [`distplot()`](https://seaborn.pydata.org/generated/seaborn.distplot.html) de `seaborn`. Par exemple, regardons la distribution de *Total de minutes par jour*. Par défaut, le tracé affiche à la fois l'histogramme avec l'[estimation de la densité du noyau](https://en.wikipedia.org/wiki/Kernel_density_estimation) (KDE) en haut."
   ]
  },
  {
   "cell_type": "code",
   "execution_count": null,
   "metadata": {},
   "outputs": [],
   "source": [
    "sns.distplot(df['Total intl calls']);"
   ]
  },
  {
   "cell_type": "markdown",
   "metadata": {},
   "source": [
    "La hauteur des barres de l'histogramme ici est normée et indique la densité plutôt que le nombre d'exemples dans chaque casier.\n",
    "\n",
    "#### Box plot\n",
    "\n",
    "Un autre type de visualisation utile est le *box plot*. `seaborn` fait du bon travail ici:"
   ]
  },
  {
   "cell_type": "code",
   "execution_count": null,
   "metadata": {},
   "outputs": [],
   "source": [
    "sns.boxplot(x='Total intl calls', data=df);"
   ]
  },
  {
   "cell_type": "markdown",
   "metadata": {},
   "source": [
    "Voyons comment interpréter une boîte à moustaches. Ses composants sont une *boîte* (évidemment, c’est pourquoi il s’appelle une *boîte à moustaches*), ce que l’on appelle les *moustaches* et un certain nombre de points individuels (*points aberrants*).\n",
    "\n",
    "Le cadre à lui seul illustre la dispersion interquartile de la distribution; sa longueur est déterminée par les centiles $25e \\, (\\text{Q1})$ and $75e \\, (\\text{Q3})$. La ligne verticale à l'intérieur de la case marque la médiane ($50\\%$) de la distribution.\n",
    "\n",
    "Les moustaches sont les lignes qui sortent de la boîte. Ils représentent toute la dispersion des points de données, en particulier les points compris dans l'intervalle $(\\text{Q1} - 1.5 \\cdot \\text{IQR}, \\text{Q3} + 1.5 \\cdot \\text{IQR})$, où $\\text{IQR} = \\text{Q3} - \\text{Q1}$ est la [plage interquartile](https://en.wikipedia.org/wiki/Interquartile_range).\n",
    "\n",
    "Les valeurs aberrantes qui sortent de la plage délimitée par les moustaches sont tracées individuellement sous forme de points noirs le long de l'axe central.\n",
    "\n",
    "Nous pouvons voir qu'un grand nombre d'appels internationaux est assez rare dans nos données.\n",
    "\n",
    "#### Diagramme en violon\n",
    "\n",
    "Le dernier type de tracés de distribution que nous allons considérer est un *tracé de violon*.\n",
    "\n",
    "Regardez les chiffres ci-dessous. Sur la gauche, nous voyons la boîte à moustaches déjà familière. À droite, un *tracé de violon* avec l'estimation de la densité du noyau des deux côtés."
   ]
  },
  {
   "cell_type": "code",
   "execution_count": null,
   "metadata": {},
   "outputs": [],
   "source": [
    "_, axes = plt.subplots(1, 2, sharey=True, figsize=(6, 4))\n",
    "sns.boxplot(data=df['Total intl calls'], ax=axes[0]);\n",
    "sns.violinplot(data=df['Total intl calls'], ax=axes[1]);"
   ]
  },
  {
   "cell_type": "markdown",
   "metadata": {},
   "source": [
    "La différence entre les diagrammes de boîte et violon est que le premier illustre certaines statistiques concernant des exemples individuels dans un jeu de données, tandis que le tracé du violon se concentre davantage sur la distribution lissée dans son ensemble.\n",
    "\n",
    "Dans notre cas, le tracé de violon ne fournit aucune information supplémentaire sur les données, car tout est clair à partir du tracé de boîte.\n",
    "\n",
    "#### describe()\n",
    "\n",
    "En plus des outils graphiques, pour obtenir les statistiques numériques exactes de la distribution, nous pouvons utiliser la méthode [`describe()`](https://pandas.pydata.org/pandas-docs/stable/generated/pandas .DataFrame.describe.html) d’un `DataFrame`:"
   ]
  },
  {
   "cell_type": "code",
   "execution_count": null,
   "metadata": {},
   "outputs": [],
   "source": [
    "df[features].describe()"
   ]
  },
  {
   "cell_type": "markdown",
   "metadata": {},
   "source": [
    "Sa sortie est la plupart du temps explicite. *25%*, *50%* et *75%* sont les [centiles](https://en.wikipedia.org/wiki/Percentile) correspondants."
   ]
  },
  {
   "cell_type": "markdown",
   "metadata": {},
   "source": [
    "### Caractéristiques catégorielles et binaires <a id=\"222\" />\n",
    "\n",
    "*Les caractéristiques catégorielles* prennent un nombre fixe de valeurs. Chacune de ces valeurs attribue une observation à un groupe correspondant, appelé *catégorie*, qui reflète une propriété qualitative de cet exemple. Les variables *binaires* constituent un cas particulier important de variables catégorielles lorsque le nombre de valeurs possibles est exactement égal à 2. Si les valeurs d'une variable catégorielle sont ordonnées, on l'appelle *ordinale*.\n",
    "\n",
    "#### Table de fréquences\n",
    "\n",
    "Voyons l’équilibre des classes dans notre jeu de données en regardant la distribution de la variable cible: le *taux de désabonnement*. Tout d’abord, nous obtiendrons un tableau de fréquences, qui indique la fréquence de chaque valeur de la variable catégorielle. Pour cela, nous allons utiliser la méthode [`value_counts()`](https://pandas.pydata.org/pandas-docs/stable/generated/pandas.Series.value_counts.html):"
   ]
  },
  {
   "cell_type": "code",
   "execution_count": null,
   "metadata": {},
   "outputs": [],
   "source": [
    "df['Churn'].value_counts()"
   ]
  },
  {
   "cell_type": "markdown",
   "metadata": {},
   "source": [
    "Par défaut, les entrées de la sortie sont triées des valeurs les plus fréquentes aux moins fréquentes.\n",
    "\n",
    "Dans notre cas, les données ne sont pas *équilibrées*; c'est-à-dire que nos deux classes cibles, les clients fidèles et déloyaux, ne sont pas représentées de manière égale dans le jeu de données. Seule une petite partie des clients a annulé son abonnement au service de télécommunication. Ce fait peut impliquer certaines restrictions quant à la mesure de la performance de la classification et, à l'avenir, nous voudrons peut-être également pénaliser davantage les erreurs de modèle que nous utiliserons pour prédire la classe minoritaire de \"Churn\"."
   ]
  },
  {
   "cell_type": "markdown",
   "metadata": {},
   "source": [
    "#### Diagramme en bâtons\n",
    "\n",
    "Le Diagramme en bâtons est une représentation graphique de la table de fréquences. Le moyen le plus simple de le créer consiste à utiliser la fonction [`countplot()`](https://seaborn.pydata.org/generated/seaborn.countplot.html) de `Seaborn` . Il existe une autre fonction dans `seaborn` qui s'appelle quelque peu déroutant [`barplot()`](https://seaborn.pydata.org/generated/seaborn.barplot.html) et qui est principalement utilisée pour la représentation de certaines statistiques de base de une variable numérique regroupée par une caractéristique catégorielle.\n",
    "\n",
    "Traçons les distributions de deux variables qualitatives:"
   ]
  },
  {
   "cell_type": "code",
   "execution_count": null,
   "metadata": {},
   "outputs": [],
   "source": [
    "_, axes = plt.subplots(nrows=1, ncols=2, figsize=(12, 4))\n",
    "\n",
    "sns.countplot(x='Churn', data=df, ax=axes[0]);\n",
    "sns.countplot(x='Customer service calls', data=df, ax=axes[1]);"
   ]
  },
  {
   "cell_type": "markdown",
   "metadata": {},
   "source": [
    "Bien que les histogrammes, décrits ci-dessus, et les diagrammes en bâtons puissent sembler similaires, il existe plusieurs différences entre eux:\n",
    "1. Les *histogrammes* conviennent le mieux pour examiner la distribution des variables numériques, tandis que les *diagrammes en bâtons* sont utilisés pour les caractéristiques catégorielles.\n",
    "2. Les valeurs sur l'axe des X dans *l'histogramme* sont numériques; un *diagramme en bâtons* peut avoir n'importe quel type de valeur sur l'axe des X: nombres, chaînes, booléens.\n",
    "3. L'axe X de *l'histogramme* est un *axe de coordonnées cartésiennes* le long duquel les valeurs ne peuvent pas être modifiées; l'ordre des *bâtons* n'est pas prédéfini. Néanmoins, il est utile de noter que les bâtons sont souvent triées par hauteur, c'est-à-dire par la fréquence des valeurs. De plus, lorsque nous considérons des variables *ordinales* (comme *appels de service client* dans nos données), les barres sont généralement classées par valeur de variable.\n",
    "\n",
    "Le graphique de gauche ci-dessus illustre clairement le déséquilibre de notre variable cible. Le diagramme en bâtons pour les *appels de service clientèle* à droite indique que la majorité des clients résolvent leurs problèmes en 2 à 3 appels maximum. Mais, comme nous voulons pouvoir prédire la classe minoritaire, nous pourrions être plus intéressés par le comportement de moins de clients insatisfaits. Il se peut bien que la queue de ce graphique en barres contient la plus grande partie de notre taux de désabonnement. Ce ne sont que des hypothèses pour le moment. Passons donc à des techniques visuelles plus intéressantes et plus puissantes."
   ]
  },
  {
   "cell_type": "markdown",
   "metadata": {},
   "source": [
    "## Visualisation multivariée <a id=\"23\"/>\n",
    "\n",
    "Les graphiques *multivariés* nous permettent de voir les relations entre deux variables différentes et plus, le tout dans une seule figure. Tout comme dans le cas des graphiques univariés, le type spécifique de visualisation dépend des types de variables analysées.\n",
    "\n",
    "### Quantitative – Quantitative <a id=\"231\"/>\n",
    "\n",
    "#### Matrice de corrélation\n",
    "\n",
    "Examinons les corrélations entre les variables numériques de notre ensemble de données. Il est important de connaître ces informations car il existe des algorithmes d'apprentissage automatique (par exemple, la régression linéaire et logistique) qui ne gèrent pas correctement les variables d'entrée hautement corrélées.\n",
    "\n",
    "Premièrement, nous allons utiliser la méthode [`corr()`](https://pandas.pydata.org/pandas-docs/stable/generated/pandas.DataFrame.corr.html) sur un `DataFrame` qui calcule la corrélation entre chaque paire de caractéristiques. Ensuite, nous passons la *matrice de corrélation* résultante à [`heatmap()`](https://seaborn.pydata.org/generated/seaborn.heatmap.html) de `seaborn`, qui affiche une matrice de couleur pour les valeurs fournies:"
   ]
  },
  {
   "cell_type": "code",
   "execution_count": null,
   "metadata": {},
   "outputs": [],
   "source": [
    "# On ne prends que les variables numériques\n",
    "numerical = list(set(df.columns) - \n",
    "                 set(['State', 'International plan', 'Voice mail plan', \n",
    "                      'Area code', 'Churn', 'Customer service calls']))\n",
    "\n",
    "# Voir l'effet de la ligne suivante et expliquez la : \n",
    "# numerical.sort()\n",
    "\n",
    "# Calcul et affichage\n",
    "corr_matrix = df[numerical].corr()\n",
    "sns.heatmap(corr_matrix);"
   ]
  },
  {
   "cell_type": "markdown",
   "metadata": {},
   "source": [
    "À partir de la matrice de corrélation colorée générée ci-dessus, nous pouvons voir qu'il existe 4 variables telles que *Total day charge* qui ont été calculées directement à partir du nombre de minutes passées en appels téléphoniques (*Total day minutes*). Celles-ci sont appelées variables *dépendantes* et peuvent donc être omises puisqu'elles ne fournissent aucune information supplémentaire. Débarrassons-nous d'elles:"
   ]
  },
  {
   "cell_type": "code",
   "execution_count": null,
   "metadata": {},
   "outputs": [],
   "source": [
    "numerical = list(set(numerical) - \n",
    "                 set(['Total day charge', 'Total eve charge', 'Total night charge', 'Total intl charge']))"
   ]
  },
  {
   "cell_type": "markdown",
   "metadata": {},
   "source": [
    "#### Nuages de points ou diagramme de dispersion\n",
    "\n",
    "Le *nuage de points* affiche les valeurs de deux variables numériques sous forme de *coordonnées cartésiennes* dans un espace 2D. Les nuages de points en 3D sont également possibles.\n",
    "\n",
    "Essayons la fonction [`scatter ()`](https://matplotlib.org/devdocs/api/_as_gen/matplotlib.pyplot.scatter.html) de la bibliothèque `matplotlib`:"
   ]
  },
  {
   "cell_type": "code",
   "execution_count": null,
   "metadata": {},
   "outputs": [],
   "source": [
    "plt.scatter(df['Total day minutes'], df['Total night minutes']);"
   ]
  },
  {
   "cell_type": "markdown",
   "metadata": {},
   "source": [
    "Nous obtenons une image sans intérêt de deux variables normalement distribuées. De plus, il semble que ces caractéristiques ne soient pas corrélées, car la forme en forme d'ellpise est alignée sur les axes.\n",
    "\n",
    "Il existe une option un peu plus sophistiquée pour créer un nuage de points avec la bibliothèque `seaborn`:"
   ]
  },
  {
   "cell_type": "code",
   "execution_count": null,
   "metadata": {},
   "outputs": [],
   "source": [
    "sns.jointplot(x='Total day minutes', y='Total night minutes', \n",
    "              data=df, kind='scatter');"
   ]
  },
  {
   "cell_type": "markdown",
   "metadata": {},
   "source": [
    "La fonction [`jointplot()`](https://seaborn.pydata.org/generated/seaborn.jointplot.html) trace deux histogrammes qui peuvent être utiles dans certains cas.\n",
    "\n",
    "En utilisant la même fonction, nous pouvons également obtenir une version lissée de notre distribution bivariée:"
   ]
  },
  {
   "cell_type": "code",
   "execution_count": null,
   "metadata": {},
   "outputs": [],
   "source": [
    "sns.jointplot('Total day minutes', 'Total night minutes', data=df,\n",
    "              kind=\"kde\");"
   ]
  },
  {
   "cell_type": "markdown",
   "metadata": {},
   "source": [
    "Il s’agit essentiellement d’une version bivariée du *tracé de densité du noyau* (KDE) discuté précédemment.\n",
    "\n",
    "#### Matrice de diagramme de dispersion\n",
    "\n",
    "Dans certains cas, il peut être utile de tracer une *matrice de nuages de points* telle que celle présentée ci-dessous. Sa diagonale contient les distributions des variables correspondantes et les diagrammes de dispersion de chaque paire de variables remplissent le reste de la matrice."
   ]
  },
  {
   "cell_type": "code",
   "execution_count": null,
   "metadata": {},
   "outputs": [],
   "source": [
    "sns.pairplot(df[numerical]);"
   ]
  },
  {
   "cell_type": "markdown",
   "metadata": {},
   "source": [
    "Parfois, une telle visualisation peut aider à tirer des conclusions sur les données; mais, dans ce cas, tout est assez clair sans surprise.\n",
    "\n",
    "### Quantitative – Categorielle <a id=\"232\"/>\n",
    "\n",
    "Dans cette section, nous allons rendre nos diagrammes quantitatifs simples un peu plus excitants. Nous tenterons d’obtenir de nouvelles informations sur la prévision du désabonnement grâce aux interactions entre les caractéristiques numériques et catégoriques.\n",
    "\n",
    "Plus spécifiquement, voyons comment les variables d’entrée sont liées à la variable cible **Churn**.\n",
    "\n",
    "Auparavant, nous avons vu les nuages de points. De plus, leurs points peuvent être codés en couleur ou en taille de sorte que les valeurs d'une troisième variable catégorielle soient également présentées sur la même figure. Nous pouvons y parvenir avec la fonction `scatter()` vue ci-dessus, mais essayons une nouvelle fonction appelée [`lmplot()`](https://seaborn.pydata.org/generated/seaborn.lmplot.html) et utilisez le paramètre `hue` pour indiquer notre particularité catégorique."
   ]
  },
  {
   "cell_type": "code",
   "execution_count": null,
   "metadata": {},
   "outputs": [],
   "source": [
    "sns.lmplot('Total day minutes', 'Total night minutes', data=df, hue='Churn', fit_reg=False);"
   ]
  },
  {
   "cell_type": "markdown",
   "metadata": {},
   "source": [
    "Il semble que notre faible proportion de clients déloyaux se penche un peu vers le coin supérieur droit; c'est-à-dire que ces clients ont tendance à passer plus de temps au téléphone, jour et nuit. Mais cela n’est pas absolument clair et nous ne tirerons aucune conclusion définitive de ce graphique.\n",
    "\n",
    "Créons maintenant des diagrammes en blocs pour visualiser les statistiques de distribution des variables numériques dans deux groupes disjoints: les clients fidèles (`Churn = False`) et ceux qui sont partis (`Churn = True`)."
   ]
  },
  {
   "cell_type": "code",
   "execution_count": null,
   "metadata": {},
   "outputs": [],
   "source": [
    "# Parfois, vous pouvez analyser une variable ordinale comme une numérique\n",
    "numerical.append('Customer service calls')\n",
    "\n",
    "fig, axes = plt.subplots(nrows=3, ncols=4, figsize=(10, 7))\n",
    "for idx, feat in enumerate(numerical):\n",
    "    ax = axes[int(idx / 4), idx % 4]\n",
    "    sns.boxplot(x='Churn', y=feat, data=df, ax=ax)\n",
    "    ax.set_xlabel('')\n",
    "    ax.set_ylabel(feat)\n",
    "fig.tight_layout();"
   ]
  },
  {
   "cell_type": "markdown",
   "metadata": {},
   "source": [
    "Sur ce graphique, nous pouvons voir que la plus grande divergence dans la distribution entre les deux groupes concerne trois variables: *Total day minutes*, *Customer service calls* et *Number vmail messages*. Nous avons déjà vu comment déterminer l’importance des caractéristiques dans la classification en utilisant *Random Forest* ou *Gradient Boosting*; si vous essayez de les utiliser sur ce dataset, vous verrez que les deux premières caractéristiques sont en effet très importantes pour la prévision du taux de désabonnement.\n",
    "\n",
    "Examinons séparément la distribution des minutes journalières parlées pour les clients fidèles et déloyaux. Nous allons créer des tracés de boîte et de violon pour le *Total day minutes* regroupées par la variable cible."
   ]
  },
  {
   "cell_type": "code",
   "execution_count": null,
   "metadata": {},
   "outputs": [],
   "source": [
    "_, axes = plt.subplots(1, 2, sharey=True, figsize=(10, 4))\n",
    "\n",
    "sns.boxplot(x='Churn', y='Total day minutes', data=df, ax=axes[0]);\n",
    "sns.violinplot(x='Churn', y='Total day minutes', data=df, ax=axes[1]);"
   ]
  },
  {
   "cell_type": "markdown",
   "metadata": {},
   "source": [
    "Dans ce cas, la comparaison entre les violons ne fournit aucune information supplémentaire à propos de nos données car tout est clair, rien que dans les boîtes : les clients déloyaux ont tendance à parler davantage au téléphone.\n",
    "\n",
    "**Observation intéressante** : en moyenne, les clients qui résilient leurs contrats sont des utilisateurs plus actifs de services de communication. Peut-être ne sont-ils pas satisfaits des tarifs, alors une mesure possible pour éviter le roulement pourrait être une réduction des tarifs d’appel. La société devra entreprendre une analyse économique supplémentaire pour déterminer si de telles mesures seraient bénéfiques.\n",
    "\n",
    "Lorsque nous voulons analyser une variable quantitative à la fois en deux dimensions catégoriques, il existe une fonction appropriée dans la bibliothèque `seaborn` appelée [`catplot()`](https://seaborn.pydata.org/generated/seaborn .factorplot.html). Par exemple, visualisons l'interaction entre *Total day minutes* et deux variables qualitatives dans le même graphique:"
   ]
  },
  {
   "cell_type": "code",
   "execution_count": null,
   "metadata": {},
   "outputs": [],
   "source": [
    "sns.catplot(x='Churn', y='Total day minutes', col='Customer service calls',\n",
    "               data=df[df['Customer service calls'] < 8], kind=\"box\",\n",
    "               col_wrap=4, height=3, aspect=.8);"
   ]
  },
  {
   "cell_type": "markdown",
   "metadata": {},
   "source": [
    "On peut en conclure que, à partir de 4 appels, le *Total day minutes* peut ne plus être le principal facteur de désabonnement des clients. En plus de nos hypothèses précédentes sur les tarifs, il se peut que certains clients ne soient pas satisfaits du service en raison d'autres problèmes, ce qui pourrait réduire le nombre de minutes d'appels par jour.\n",
    "\n",
    "### Categorielle – Categorielle <a id=\"233\"/>\n",
    "\n",
    "Comme nous l'avons vu précédemment dans cet article, la variable *Customer service calls* a peu de valeurs uniques et peut donc être considérée comme numérique ou ordinale. Nous avons déjà vu sa distribution avec un *countplot*. Nous nous intéressons maintenant à la relation entre cette entité ordinale et la variable cible *Churn*.\n",
    "\n",
    "Regardons la distribution du nombre d'appels au service clientèle, en utilisant à nouveau un *countplot*. Cette fois, passons également le paramètre `hue = Churn` qui ajoute une dimension catégorique au tracé :"
   ]
  },
  {
   "cell_type": "code",
   "execution_count": null,
   "metadata": {},
   "outputs": [],
   "source": [
    "sns.countplot(x='Customer service calls', hue='Churn', data=df);"
   ]
  },
  {
   "cell_type": "markdown",
   "metadata": {},
   "source": [
    "**Une observation** : le taux de désabonnement augmente significativement après 4 appels ou plus au service clientèle.\n",
    "\n",
    "Maintenant, regardons la relation entre *Churn* et les fonctionnalités binaires, *International plan* et *Voice mail plan*."
   ]
  },
  {
   "cell_type": "code",
   "execution_count": null,
   "metadata": {},
   "outputs": [],
   "source": [
    "_, axes = plt.subplots(1, 2, sharey=True, figsize=(10, 4))\n",
    "\n",
    "sns.countplot(x='International plan', hue='Churn', data=df, ax=axes[0]);\n",
    "sns.countplot(x='Voice mail plan', hue='Churn', data=df, ax=axes[1]);"
   ]
  },
  {
   "cell_type": "markdown",
   "metadata": {},
   "source": [
    "**Une observation** : lorsque *International plan* est activé, le taux de désabonnement est beaucoup plus élevé; l'utilisation du plan international par le client est un atout majeur. Nous n'observons pas le même effet avec *Voice mail plan*.\n",
    "\n",
    "#### Tableau de contingence\n",
    "\n",
    "Outre l’utilisation de moyens graphiques pour l’analyse catégorique, il existe un outil traditionnel de statistiques: un *tableau de contingence*, également appelé *tableau croisé*. Il représente la distribution de fréquence multivariée des variables catégorielles sous forme de tableau. En particulier, cela nous permet de voir la distribution d'une variable conditionnellement à l'autre en regardant le long d'une colonne ou d'une ligne.\n",
    "\n",
    "Essayons de voir comment *Churn* est lié à la variable catégorique *State* en créant une tabulation croisée:"
   ]
  },
  {
   "cell_type": "code",
   "execution_count": null,
   "metadata": {},
   "outputs": [],
   "source": [
    "pd.crosstab(df['State'], df['Churn']).T"
   ]
  },
  {
   "cell_type": "markdown",
   "metadata": {},
   "source": [
    "Dans le cas de *State*, le nombre de valeurs distinctes est plutôt élevé: 51. Nous constatons qu'il n'y a que quelques points de données disponibles pour chaque état - seuls 3 à 17 clients dans chaque état ont abandonné l'opérateur. Ignorons cela une seconde et calculons le taux de désabonnement pour chaque état en le triant de haut en bas:"
   ]
  },
  {
   "cell_type": "code",
   "execution_count": null,
   "metadata": {
    "scrolled": true
   },
   "outputs": [],
   "source": [
    "df.groupby(['State'])['Churn'].agg([np.mean]).sort_values(by='mean', ascending=False).T"
   ]
  },
  {
   "cell_type": "markdown",
   "metadata": {},
   "source": [
    "À première vue, il semble que le taux de désabonnement dans le *New Jersey* et la *Californie* dépasse 25% et moins de 6% à Hawaii et en Alaska. Cependant, ces conclusions reposent sur trop peu d'exemples et notre observation pourrait n'être qu'une simple propriété de notre ensemble de données particulier. Nous pouvons le confirmer avec la mesure de [Matthews](https://en.wikipedia.org/wiki/Matthews_correlation_coefficient), mais cela sortirait du cadre de ce cours."
   ]
  },
  {
   "cell_type": "markdown",
   "metadata": {},
   "source": [
    "## Dataset complet <a id=\"24\"/>"
   ]
  },
  {
   "cell_type": "markdown",
   "metadata": {},
   "source": [
    "### Approche naïve <a id=\"241\"/>\n",
    "\n",
    "Nous avons examiné différentes *facettes* de notre jeu de données en devinant des caractéristiques intéressantes et en sélectionnant un petit nombre à la fois pour la visualisation. Nous n’avons traité que deux ou trois variables à la fois et avons facilement pu observer la structure et les relations dans les données. Mais que se passe-t-il si nous voulons afficher toutes les fonctionnalités tout en pouvant interpréter la visualisation résultante?\n",
    "\n",
    "Nous pourrions utiliser `hist()` ou créer une matrice de nuages de points avec `pairplot()` pour l'ensemble du jeu de données afin d'examiner simultanément toutes nos entités. Toutefois, lorsque le nombre de caractéristiques est important, ce type d'analyse visuelle devient rapidement lent et inefficace. En outre, nous analyserions toujours nos variables par paires, pas toutes en même temps."
   ]
  },
  {
   "cell_type": "markdown",
   "metadata": {},
   "source": [
    "### Réduction de la dimensionnalité <a id=\"242\"/>\n",
    "\n",
    "La plupart des jeux de données du monde réel comportent de nombreuses caractéristiques, parfois plusieurs milliers. Chacune d'elle peut être considérée comme une dimension dans l'espace des points de données. Par conséquent, plus souvent qu'autrement, nous traitons avec des jeux de données de grande dimension, où la visualisation entière est assez difficile.\n",
    "\n",
    "Pour examiner un jeu de données dans son ensemble, nous devons réduire le nombre de dimensions utilisées dans la visualisation sans perdre beaucoup d'informations sur les données. Cette tâche s'appelle *réduction de dimensionnalité* et constitue un exemple de problème *d'apprentissage non supervisé*, car nous devons dériver de nouvelles caractéristiques de faible dimension à partir des données elles-mêmes, sans aucune entrée supervisée.\n",
    "\n",
    "L'une des méthodes de réduction de dimensionnalité bien connues est *l'analyse en composantes principales* (PCA). Sa limite est qu'il s'agit d'un algorithme *linéaire* qui implique certaines restrictions sur les données.\n",
    "\n",
    "Il existe également de nombreuses méthodes non linéaires, appelées collectivement *Manifold Learning*. L'un des plus connus d'entre eux est *t-SNE*. Nous reviendront la dessus lors de la préparation des données."
   ]
  },
  {
   "cell_type": "markdown",
   "metadata": {},
   "source": [
    "### t-SNE <a id=\"243\"/>\n",
    "\n",
    "Créons une représentation [t-SNE](https://en.wikipedia.org/wiki/T-distributed_stochastic_neighbor_embedding) des mêmes données de désabonnement que nous avons utilisées.\n",
    "\n",
    "Le nom de la méthode semble complexe et un peu intimidant: *Incorporation de voisins stohastiques t-distribués*. Ses calculs sont également impressionnants (nous ne nous en plongerons pas ici, mais si vous vous sentez courageux, voici l'[article original](http://www.jmlr.org/papers/volume9/vandermaaten08a/vandermaaten08a.pdf) de Laurens van der Maaten et Geoffrey Hinton de [JMLR](http://www.jmlr.org/)). Son idée de base est simple: trouver une projection pour un espace de grandes dimensions sur un plan (ou un hyperplan 3D, mais il est presque toujours 2D) de manière à ce que les points éloignés dans l'espace initial à n dimensions se retrouvent éloignés dans le plan. Ceux qui étaient proches à l’origine resteraient proches les uns des autres.\n",
    "\n",
    "L'*incorporation de voisins* est essentiellement une recherche d'une nouvelle représentation de données de moindre dimension qui préserve le voisinage des exemples.\n",
    "\n",
    "Maintenant, faisons un peu de pratique. Premièrement, nous devons importer des classes supplémentaires:"
   ]
  },
  {
   "cell_type": "code",
   "execution_count": null,
   "metadata": {},
   "outputs": [],
   "source": [
    "from sklearn.manifold import TSNE\n",
    "from sklearn.preprocessing import StandardScaler"
   ]
  },
  {
   "cell_type": "markdown",
   "metadata": {},
   "source": [
    "Nous allons laisser de côté les fonctionnalités *State* et *Churn* et convertir les valeurs \"Oui\"/\"Non\" des entités binaires en valeurs numériques en utilisant [`pandas.Series.map()`](http://pandas.pydata.org/pandas-docs/stable/generated/pandas.Series.map.html):"
   ]
  },
  {
   "cell_type": "code",
   "execution_count": null,
   "metadata": {},
   "outputs": [],
   "source": [
    "X = df.drop(['Churn', 'State'], axis=1)\n",
    "X['International plan'] = X['International plan'].map({'yes': 1, 'no': 0})\n",
    "X['Voice mail plan'] = X['Voice mail plan'].map({'yes': 1, 'no': 0})"
   ]
  },
  {
   "cell_type": "markdown",
   "metadata": {},
   "source": [
    "Nous devons également normaliser les données. Pour cela, nous allons soustraire la moyenne de chaque variable et la diviser par son écart type. Tout cela peut être fait avec `StandardScaler`. Nous en verrons plus à ce sujet au prochain cours."
   ]
  },
  {
   "cell_type": "code",
   "execution_count": null,
   "metadata": {},
   "outputs": [],
   "source": [
    "scaler = StandardScaler()\n",
    "X_scaled = scaler.fit_transform(X)"
   ]
  },
  {
   "cell_type": "markdown",
   "metadata": {},
   "source": [
    "Construisons maintenant une représentation t-SNE :"
   ]
  },
  {
   "cell_type": "code",
   "execution_count": null,
   "metadata": {},
   "outputs": [],
   "source": [
    "%%time\n",
    "tsne = TSNE(random_state=17)\n",
    "tsne_repr = tsne.fit_transform(X_scaled)"
   ]
  },
  {
   "cell_type": "markdown",
   "metadata": {},
   "source": [
    "Et affichons la : "
   ]
  },
  {
   "cell_type": "code",
   "execution_count": null,
   "metadata": {},
   "outputs": [],
   "source": [
    "plt.scatter(tsne_repr[:, 0], tsne_repr[:, 1], alpha=.5);"
   ]
  },
  {
   "cell_type": "markdown",
   "metadata": {},
   "source": [
    "Colorons cette représentation t-SNE en fonction du taux de désabonnement (bleu pour les clients fidèles et orange pour ceux qui quittent)."
   ]
  },
  {
   "cell_type": "code",
   "execution_count": null,
   "metadata": {},
   "outputs": [],
   "source": [
    "plt.scatter(tsne_repr[:, 0], tsne_repr[:, 1],\n",
    "            c=df['Churn'].map({False: 'blue', True: 'orange'}), alpha=.5);"
   ]
  },
  {
   "cell_type": "markdown",
   "metadata": {},
   "source": [
    "Nous pouvons voir que les clients qui ont quitté sont concentrés dans quelques zones de l’espace des entités de dimension inférieure.\n",
    "\n",
    "Pour mieux comprendre la photo, nous pouvons également la colorier avec les fonctions binaires restantes: *International Plan* et *Voicemail*. Les points orange ici indiquent les instances positives pour la fonction binaire correspondante."
   ]
  },
  {
   "cell_type": "code",
   "execution_count": null,
   "metadata": {},
   "outputs": [],
   "source": [
    "_, axes = plt.subplots(1, 2, sharey=True, figsize=(12, 5))\n",
    "\n",
    "for i, name in enumerate(['International plan', 'Voice mail plan']):\n",
    "    axes[i].scatter(tsne_repr[:, 0], tsne_repr[:, 1], \n",
    "                    c=df[name].map({'yes': 'orange', 'no': 'blue'}), alpha=.5);\n",
    "    axes[i].set_title(name);"
   ]
  },
  {
   "cell_type": "markdown",
   "metadata": {},
   "source": [
    "Il est maintenant clair que, par exemple, de nombreux clients insatisfaits qui ont résilié leur abonnement sont regroupés dans le groupe le plus au sud-ouest qui représente les utilisateurs du plan international, mais pas de messagerie vocale.\n",
    "\n",
    "Enfin, notons quelques inconvénients du t-SNE:\n",
    "- Grande complexité de calcul. Le fichier [implementation](http://scikit-learn.org/stable/modules/generated/sklearn.manifold.TSNE.html) dans `scikit-learn` ne sera probablement pas réalisable dans une tâche réelle. Si vous avez un grand nombre d'échantillons, vous devriez plutôt essayer [Multicore-TSNE](https://github.com/DmitryUlyanov/Multicore-TSNE).\n",
    "- Le résultat peut beaucoup changer en fonction de la `seed` aléatoire, ce qui complique l'interprétation. [Ici il existe](http://distill.pub/2016/misread-tsne/) un bon tutoriel sur t-SNE. En général, vous ne devriez pas tirer de conclusions de grande envergure basées sur de tels graphiques, car cela équivaudrait à une simple estimation. Bien sûr, certaines conclusions des images t-SNE peuvent inspirer une idée et être confirmées par des recherches plus poussées, mais cela n'arrive pas très souvent.\n",
    "\n",
    "De temps en temps, en utilisant t-SNE, vous pouvez obtenir une très bonne intuition pour les données. Ce qui suit est un bon article qui en donne un exemple pour les chiffres manuscrits: [Visualiser MNIST](https://colah.github.io/posts/2014-10-Visualizing-MNIST/).\n",
    "\n",
    "Nous reviendrons sur le *Manifold Learning* sur MNIST pendant la préparation des données."
   ]
  },
  {
   "cell_type": "markdown",
   "metadata": {},
   "source": [
    "# Analyse visuelle de données en Python <a id =\"3\" /> \n",
    "## Survol des bibliothèques Seaborn, Matplotlib et Plotly <a id =\"31\" />"
   ]
  },
  {
   "cell_type": "markdown",
   "metadata": {},
   "source": [
    "### Jeu de données <a id =\"311\" />\n",
    "\n",
    "Chargeons le jeu de données que nous allons utiliser dans un `DataFrame`. Nous avons choisi un ensemble de données sur les ventes de jeux vidéo et notes de [Kaggle datasets](https://www.kaggle.com/rush4ratio/video-game-sales-with-ratings).\n",
    "Certains des jeux de cet ensemble de données manquent d’évaluations; Nous allons donc filtrer uniquement les exemples dont toutes les valeurs sont présentes."
   ]
  },
  {
   "cell_type": "code",
   "execution_count": null,
   "metadata": {},
   "outputs": [],
   "source": [
    "df = pd.read_csv('video_games_sales.csv').dropna()\n",
    "print(df.shape)"
   ]
  },
  {
   "cell_type": "markdown",
   "metadata": {},
   "source": [
    "Ensuite, imprimez le résumé du `DataFrame` pour vérifier les types de données et pour vérifier que tout est non nul."
   ]
  },
  {
   "cell_type": "code",
   "execution_count": null,
   "metadata": {},
   "outputs": [],
   "source": [
    "df.info()"
   ]
  },
  {
   "cell_type": "markdown",
   "metadata": {},
   "source": [
    "Nous constatons que `pandas` a chargé certaines caractéristiques numériques sous le type `objet`. Nous allons explicitement convertir ces colonnes en `float` et `int`."
   ]
  },
  {
   "cell_type": "code",
   "execution_count": null,
   "metadata": {},
   "outputs": [],
   "source": [
    "df['User_Score'] = df['User_Score'].astype('float64')\n",
    "df['Year_of_Release'] = df['Year_of_Release'].astype('int64')\n",
    "df['User_Count'] = df['User_Count'].astype('int64')\n",
    "df['Critic_Count'] = df['Critic_Count'].astype('int64')"
   ]
  },
  {
   "cell_type": "markdown",
   "metadata": {},
   "source": [
    "Le `DataFrame` résultant contient 6825 exemples et 16 colonnes. Examinons les premières entrées avec la méthode `head()` pour vérifier que tout a été correctement analysé. Pour rendre les choses plus pratiques, je n’ai répertorié que les variables que nous allons utiliser dans ce cahier."
   ]
  },
  {
   "cell_type": "code",
   "execution_count": null,
   "metadata": {},
   "outputs": [],
   "source": [
    "useful_cols = ['Name', 'Platform', 'Year_of_Release', 'Genre', \n",
    "               'Global_Sales', 'Critic_Score', 'Critic_Count',\n",
    "               'User_Score', 'User_Count', 'Rating'\n",
    "              ]\n",
    "df[useful_cols].head()"
   ]
  },
  {
   "cell_type": "markdown",
   "metadata": {},
   "source": [
    "### 2. DataFrame.plot () <a id =\"312\" />\n",
    "\n",
    "Avant de passer à Seaborn et Plotly, discutons du moyen le plus simple et souvent le plus pratique de visualiser les données d’un `DataFrame` : en utilisant sa propre méthode `plot() `.\n",
    "\n",
    "À titre d'exemple, nous allons créer un graphique des ventes de jeux vidéo par pays et par année. Premièrement, ne gardons que les colonnes dont nous avons besoin. Ensuite, nous allons calculer le total des ventes par année et appeler la méthode `plot()` sur le `DataFrame` résultant."
   ]
  },
  {
   "cell_type": "code",
   "execution_count": null,
   "metadata": {},
   "outputs": [],
   "source": [
    "df[[x for x in df.columns if 'Sales' in x] + \n",
    "   ['Year_of_Release']].groupby('Year_of_Release').sum().plot(figsize=(20,10));"
   ]
  },
  {
   "cell_type": "markdown",
   "metadata": {},
   "source": [
    "Notez que l'implémentation de la méthode `plot()` dans `pandas` est basée sur `matplotlib`."
   ]
  },
  {
   "cell_type": "markdown",
   "metadata": {},
   "source": [
    "En utilisant le paramètre `kind`, vous pouvez changer le type du tracé en, par exemple, un *diagramme en bâtons*. `matplotlib` est généralement assez flexible pour personnaliser les tracés. Vous pouvez presque tout modifier dans le tableau, mais vous devrez peut-être consulter la [documentation](https://pandas.pydata.org/pandas-docs/stable/generated/pandas.DataFrame.plot.html) pour trouver le paramètres correspondants. Par exemple, le paramètre `rot` est responsable de l'angle de rotation des graduations sur l'axe des x (pour les tracés verticaux):"
   ]
  },
  {
   "cell_type": "code",
   "execution_count": null,
   "metadata": {},
   "outputs": [],
   "source": [
    "df[[x for x in df.columns if 'Sales' in x] + \n",
    "       ['Year_of_Release']].groupby('Year_of_Release').sum().plot(kind='bar', rot=45,width=1);"
   ]
  },
  {
   "cell_type": "markdown",
   "metadata": {},
   "source": [
    "### Seaborn <a id =\"313\" />\n",
    "\n",
    "Passons maintenant à la bibliothèque `Seaborn`. `seaborn` est essentiellement une API de niveau supérieur basée sur la bibliothèque` matplotlib`. Entre autres choses, il diffère de ce dernier en ce qu'il contient des paramètres par défaut plus adéquats pour le traçage. Même en ajoutant simplement `import seaborn` dans votre code, les images de vos cellules deviendront beaucoup plus agréables. En outre, cette bibliothèque contient un ensemble d’outils complexes pour la visualisation qui, autrement (c’est-à-dire lorsqu’on utilise nu `matplotlib`) nécessiteraient une grande quantité de code.\n",
    "\n",
    "#### pairplot()\n",
    "\n",
    "Jetons un coup d'œil au premier de ces tracés complexes, un *tracé de relations par paires*, qui crée une matrice de diagrammes de dispersion par défaut. Ce type de graphique nous aide à visualiser la relation entre différentes variables dans une seule sortie."
   ]
  },
  {
   "cell_type": "code",
   "execution_count": null,
   "metadata": {},
   "outputs": [],
   "source": [
    "sns.pairplot(df[['Global_Sales', 'Critic_Score', 'Critic_Count', \n",
    "                 'User_Score', 'User_Count']]);"
   ]
  },
  {
   "cell_type": "markdown",
   "metadata": {},
   "source": [
    "Comme vous pouvez le constater, les histogrammes de distribution sont situés sur la diagonale de la matrice. Les graphiques restants sont des diagrammes de dispersion pour les paires d'entités correspondantes.\n",
    "\n",
    "#### distplot ()\n",
    "\n",
    "Il est également possible de tracer une distribution d'observations à l'aide de `distplot()` de `seaborn`. Par exemple, regardons la distribution des notes des critiques: `Critic_Score`. Par défaut, le tracé affiche un histogramme et le [estimation de la densité du noyau](https://en.wikipedia.org/wiki/Kernel_density_estimation)."
   ]
  },
  {
   "cell_type": "code",
   "execution_count": null,
   "metadata": {},
   "outputs": [],
   "source": [
    "sns.distplot(df['Critic_Score']);"
   ]
  },
  {
   "cell_type": "markdown",
   "metadata": {},
   "source": [
    "#### jointplot ()\n",
    "\n",
    "Pour examiner de plus près la relation entre deux variables numériques, vous pouvez utiliser `jointplot()`, qui est un croisement entre un nuage de points et un histogramme. Voyons comment les fonctionnalités `Critic_Score` et` User_Score` sont liées."
   ]
  },
  {
   "cell_type": "code",
   "execution_count": null,
   "metadata": {},
   "outputs": [],
   "source": [
    "sns.jointplot(x='Critic_Score', y='User_Score', \n",
    "              data=df, kind='scatter');"
   ]
  },
  {
   "cell_type": "markdown",
   "metadata": {},
   "source": [
    "#### boxplot ()\n",
    "\n",
    "Un autre type de graphique utile est la *boîte à moustaches*. Comparons les évaluations des critiques pour les 5 plus grandes plateformes de jeu."
   ]
  },
  {
   "cell_type": "code",
   "execution_count": null,
   "metadata": {},
   "outputs": [],
   "source": [
    "top_platforms = df['Platform'].value_counts().sort_values(ascending=False).head(5).index.values\n",
    "sns.boxplot(y=\"Platform\", x=\"Critic_Score\", \n",
    "            data=df[df['Platform'].isin(top_platforms)], orient=\"h\");"
   ]
  },
  {
   "cell_type": "markdown",
   "metadata": {},
   "source": [
    "#### heatmap()\n",
    "\n",
    "Le dernier type de parcelle que nous allons couvrir ici est une *carte thermique*. Une carte thermique vous permet de visualiser la distribution d’une variable numérique sur deux variables catégoriques. Visualisons le total des ventes de jeux par genre et par plate-forme."
   ]
  },
  {
   "cell_type": "code",
   "execution_count": null,
   "metadata": {},
   "outputs": [],
   "source": [
    "platform_genre_sales = df.pivot_table(\n",
    "                        index='Platform', \n",
    "                        columns='Genre', \n",
    "                        values='Global_Sales', \n",
    "                        aggfunc=sum).fillna(0).applymap(float)\n",
    "sns.heatmap(platform_genre_sales, # La table a afficher\n",
    "            annot=True, # Pour voir les valeurs \n",
    "            fmt=\".1f\", # Le format d'affichage (1 chiffre après la virgule)\n",
    "            linewidths=.1); # pour séparer les cases noires"
   ]
  },
  {
   "cell_type": "markdown",
   "metadata": {},
   "source": [
    "### 4. Plotly  <a id =\"314\" />\n",
    "\n",
    "Nous avons examiné quelques outils de visualisation basés sur la bibliothèque `matplotlib`. Cependant, ce n'est pas la seule option pour tracer dans `Python`. Jetons un coup d’œil à la bibliothèque `plotly`. Plotly est une bibliothèque open-source qui permet de créer des tracés interactifs dans un bloc-notes Jupyter sans avoir à utiliser le langage Javascript.\n",
    "\n",
    "La beauté des graphes interactifs réside dans le fait qu’ils fournissent une interface utilisateur permettant une exploration détaillée des données. Par exemple, vous pouvez voir les valeurs numériques exactes en déplaçant la souris sur des points, en masquant les séries sans intérêt de la visualisation, en effectuant un zoom avant sur une partie spécifique du tracé, etc.\n",
    "\n",
    "Avant de commencer, importons tous les modules nécessaires et initialisons `plotly` en appelant la fonction` init_notebook_mode()`."
   ]
  },
  {
   "cell_type": "code",
   "execution_count": null,
   "metadata": {},
   "outputs": [],
   "source": [
    "# pip install plotly\n",
    "# jupyter labextension install @jupyterlab/plotly-extension\n",
    "\n",
    "import plotly\n",
    "import plotly.graph_objs as go\n",
    "from plotly.offline import download_plotlyjs, init_notebook_mode, plot, iplot\n",
    "\n",
    "init_notebook_mode(connected=True)"
   ]
  },
  {
   "cell_type": "markdown",
   "metadata": {},
   "source": [
    "#### Line plot : Graphique linéaire\n",
    "\n",
    "Tout d’abord, construisons un *graphique linéaire* indiquant le nombre de jeux sortis et leurs ventes par année."
   ]
  },
  {
   "cell_type": "code",
   "execution_count": null,
   "metadata": {},
   "outputs": [],
   "source": [
    "years_df = df.groupby('Year_of_Release')[['Global_Sales']].sum().join(\n",
    "    df.groupby('Year_of_Release')[['Name']].count())\n",
    "years_df.columns = ['Global_Sales', 'Number_of_Games']"
   ]
  },
  {
   "cell_type": "markdown",
   "metadata": {},
   "source": [
    "`Figure` est la classe principale et l'outil principal de la visualisation dans` plotly`. Il se compose des données (un tableau de lignes appelé `traces` dans cette bibliothèque) et du style (représenté par l'objet `layout`). Dans le cas le plus simple, vous pouvez appeler la fonction `iplot` pour ne renvoyer que les `traces`.\n",
    "\n",
    "Le paramètre `show_link` bascule la visibilité des liens menant à la plateforme en ligne` plot.ly` dans vos graphiques. La plupart du temps, cette fonctionnalité n'est pas nécessaire, vous pouvez donc la désactiver en passant `show_link = False` pour éviter les clics accidentels sur ces liens."
   ]
  },
  {
   "cell_type": "code",
   "execution_count": null,
   "metadata": {},
   "outputs": [],
   "source": [
    "# Créer un ligne (trace) pour les ventes globales\n",
    "trace0 = go.Scatter(\n",
    "    x=years_df.index,\n",
    "    y=years_df['Global_Sales'],\n",
    "    name='Global Sales',\n",
    "    mode = 'lines+markers',\n",
    ")\n",
    "\n",
    "# Créer un ligne (trace) pour le nombre de jeu sortis\n",
    "trace1 = go.Scatter(\n",
    "    x=years_df.index,\n",
    "    y=years_df['Number_of_Games'],\n",
    "    name='Number of games released',\n",
    "    mode = 'lines+markers',\n",
    ")\n",
    "\n",
    "# On définit l'ensemble de données\n",
    "data = [trace0, trace1]\n",
    "\n",
    "# Le titre et le redimensionnement\n",
    "layout = go.Layout(\n",
    "    autosize=False,\n",
    "    title='Statistics for video games'\n",
    ")\n",
    "\n",
    "# On crée la figure et on affiche\n",
    "fig = go.Figure(data=data, layout=layout)\n",
    "iplot(fig, show_link=False)"
   ]
  },
  {
   "cell_type": "markdown",
   "metadata": {},
   "source": [
    "#### Bar chart : diagramme en bâtons\n",
    "\n",
    "Utilisons un *diagramme en bâtons* pour comparer la part de marché de différentes plates-formes de jeu ventilée par le nombre de nouvelles versions et par le revenu total."
   ]
  },
  {
   "cell_type": "code",
   "execution_count": null,
   "metadata": {},
   "outputs": [],
   "source": [
    "# Faire les calculs et préparer les données\n",
    "platforms_df = df.groupby('Platform')[['Global_Sales']].sum().join(\n",
    "    df.groupby('Platform')[['Name']].count()\n",
    ")\n",
    "platforms_df.columns = ['Global_Sales', 'Number_of_Games']\n",
    "platforms_df.sort_values('Global_Sales', ascending=False, inplace=True)"
   ]
  },
  {
   "cell_type": "code",
   "execution_count": null,
   "metadata": {},
   "outputs": [],
   "source": [
    "# Créer les bâtons pour les ventes gloables\n",
    "trace0 = go.Bar(\n",
    "    x=platforms_df.index,\n",
    "    y=platforms_df['Global_Sales'],\n",
    "    name='Global Sales'\n",
    ")\n",
    "\n",
    "# Créer les bâtons pour le nombre de jeu sortis\n",
    "trace1 = go.Bar(\n",
    "    x=platforms_df.index,\n",
    "    y=platforms_df['Number_of_Games'],\n",
    "    name='Number of games released'\n",
    ")\n",
    "\n",
    "# Regrouper les données et la disposition\n",
    "data = [trace0, trace1]\n",
    "layout = {'autosize':False,'title': 'Market share by gaming platform'}\n",
    "\n",
    "# Création dela Figure et affichage\n",
    "fig = go.FigureWidget(data=data, layout=layout)\n",
    "iplot(fig, show_link=False)"
   ]
  },
  {
   "cell_type": "markdown",
   "metadata": {},
   "source": [
    "#### Box plot\n",
    "\n",
    "`plotly` prend également en charge *les boîtes à moustaches*. Considérons la répartition des notes des critiques par genre du jeu."
   ]
  },
  {
   "cell_type": "code",
   "execution_count": null,
   "metadata": {},
   "outputs": [],
   "source": [
    "data = []\n",
    "\n",
    "# Créons un boite pour chaque genre dans nos données\n",
    "for genre in df.Genre.unique():\n",
    "    data.append(\n",
    "        go.Box(y=df[df.Genre == genre].Critic_Score, name=genre)\n",
    "    )\n",
    "    \n",
    "# et affichage\n",
    "iplot(data, show_link=False)"
   ]
  },
  {
   "cell_type": "markdown",
   "metadata": {},
   "source": [
    "En utilisant `plotly`, vous pouvez également créer d'autres types de visualisation. Même avec les paramètres par défaut, les graphes sont plutôt beaux. De plus, la bibliothèque facilite la modification de divers paramètres: couleurs, polices, légendes, annotations, etc."
   ]
  },
  {
   "cell_type": "markdown",
   "metadata": {},
   "source": [
    "# 4. Un autre exercice : Analysons les passagers du \"Titanic\" <a id =\"4\" />"
   ]
  },
  {
   "cell_type": "markdown",
   "metadata": {},
   "source": [
    "**<a href=\"https://www.kaggle.com/c/titanic\">Compétition</a> Kaggle \"Titanic: Machine Learning from Disaster\".**"
   ]
  },
  {
   "cell_type": "code",
   "execution_count": null,
   "metadata": {},
   "outputs": [],
   "source": [
    "import numpy as np\n",
    "import pandas as pd\n",
    "import seaborn as sns\n",
    "sns.set()\n",
    "import matplotlib.pyplot as plt"
   ]
  },
  {
   "cell_type": "markdown",
   "metadata": {},
   "source": [
    "**Read data**\n",
    "\n",
    " - survival: Survival (0 = No, 1 = Yes)\n",
    " - pclass: Ticket class(1 = 1st, 2 = 2nd, 3 = 3rd)\n",
    " - sex: Sex\n",
    " - Age: Age in years\n",
    " - sibsp: Number of siblings / spouses aboard the Titanic\n",
    " - parch: Number of parents / children aboard the Titanic\n",
    " - ticket: Ticket number\n",
    " - fare:Passenger fare\n",
    " - cabin:Cabin number\n",
    " - embarked:Port of Embarkation(C = Cherbourg, Q = Queenstown, S = Southampton)"
   ]
  },
  {
   "cell_type": "code",
   "execution_count": null,
   "metadata": {},
   "outputs": [],
   "source": [
    "train_df = sns.load_dataset('titanic')"
   ]
  },
  {
   "cell_type": "code",
   "execution_count": null,
   "metadata": {},
   "outputs": [],
   "source": [
    "train_df.head(2)"
   ]
  },
  {
   "cell_type": "code",
   "execution_count": null,
   "metadata": {},
   "outputs": [],
   "source": [
    "train_df.describe(include='all')"
   ]
  },
  {
   "cell_type": "code",
   "execution_count": null,
   "metadata": {},
   "outputs": [],
   "source": [
    "train_df.info()"
   ]
  },
  {
   "cell_type": "markdown",
   "metadata": {},
   "source": [
    "Débarrassons nous des valeurs non complètes:"
   ]
  },
  {
   "cell_type": "code",
   "execution_count": null,
   "metadata": {},
   "outputs": [],
   "source": [
    "train_df = train_df.dropna()"
   ]
  },
  {
   "cell_type": "code",
   "execution_count": null,
   "metadata": {},
   "outputs": [],
   "source": [
    "train_df.shape"
   ]
  },
  {
   "cell_type": "markdown",
   "metadata": {},
   "source": [
    "Créez une image pour visualiser tous les diagrammes de dispersion pour chaque paire de caractéristiques `Age`, `Fare`, `SibSp`, `Parch` et `Survived`. (`scatter_matrix` de Pandas ou` pairplot` de Seaborn)"
   ]
  },
  {
   "cell_type": "code",
   "execution_count": null,
   "metadata": {},
   "outputs": [],
   "source": [
    "sns.pairplot(train_df[['survived', 'age', 'fare', 'sibsp', 'parch']]);"
   ]
  },
  {
   "cell_type": "markdown",
   "metadata": {},
   "source": [
    "Comment le prix du billet (`Fare`) dépend-il de `Pclass`? Construire une boîte à moustaches (*boxplot*)."
   ]
  },
  {
   "cell_type": "code",
   "execution_count": null,
   "metadata": {},
   "outputs": [],
   "source": [
    "sns.boxplot(x='pclass', y='fare', data=train_df);"
   ]
  },
  {
   "cell_type": "markdown",
   "metadata": {},
   "source": [
    "**Construisons le même graphe, mais limitons les valeurs de `Fare` à moins de 95% en quantiles du vecteur initial (pour supprimer les valeurs aberrantes rendant le graphe moins clair).**\n",
    "\n",
    "(Il est possible d'éliminer *tous* les outliers avec un simple paramètres de [`boxplot()`](https://matplotlib.org/api/_as_gen/matplotlib.pyplot.boxplot.html))"
   ]
  },
  {
   "cell_type": "code",
   "execution_count": null,
   "metadata": {},
   "outputs": [],
   "source": [
    "sns.boxplot(x='pclass', y='fare', data=train_df[train_df['fare'] < train_df['fare'].quantile(.95)]);\n",
    "\n",
    "# Ou plus simplement \n",
    "#sns.boxplot(x='pclass', y='fare', showfliers=False, data=train_df);"
   ]
  },
  {
   "cell_type": "markdown",
   "metadata": {},
   "source": [
    "**A quel point la proportion de passagers survivants dépend du sexe des passagers? Représentez-le avec `Seaborn.countplot` en utilisant l'argument `hue`.**"
   ]
  },
  {
   "cell_type": "code",
   "execution_count": null,
   "metadata": {},
   "outputs": [],
   "source": [
    "pd.crosstab(train_df['sex'], train_df['survived'])"
   ]
  },
  {
   "cell_type": "code",
   "execution_count": null,
   "metadata": {},
   "outputs": [],
   "source": [
    "sns.countplot(x=\"sex\", hue=\"survived\", data=train_df);"
   ]
  },
  {
   "cell_type": "markdown",
   "metadata": {},
   "source": [
    "Faisons la même chose pour `Survived` et `Pclass`"
   ]
  },
  {
   "cell_type": "code",
   "execution_count": null,
   "metadata": {},
   "outputs": [],
   "source": [
    "sns.countplot(x=\"pclass\", hue=\"survived\", data=train_df);"
   ]
  },
  {
   "cell_type": "markdown",
   "metadata": {},
   "source": [
    "**En quoi la distribution des prix des billets diffère-t-elle entre ceux qui ont survécu et ceux qui n'ont pas survécu? Le représenter avec `Seaborn.boxplot`**"
   ]
  },
  {
   "cell_type": "code",
   "execution_count": null,
   "metadata": {},
   "outputs": [],
   "source": [
    "sns.boxplot(x='survived', y='fare', data=train_df[train_df['fare'] < 500]);"
   ]
  },
  {
   "cell_type": "markdown",
   "metadata": {},
   "source": [
    "Triste vérité, ceux qui ont survécu ont généralement payé beaucoup plus pour leurs billets."
   ]
  },
  {
   "cell_type": "markdown",
   "metadata": {},
   "source": [
    "**Comment la survie dépendait de l'âge des passagers? Vérifiez (graphiquement) l'hypothèse selon laquelle les jeunes (<30 ans) survivaient plus fréquemment que les personnes âgées (> 55 ans).**"
   ]
  },
  {
   "cell_type": "markdown",
   "metadata": {},
   "source": [
    "Construisons d'abord la boîte à moustaches (`boxplot`)"
   ]
  },
  {
   "cell_type": "code",
   "execution_count": null,
   "metadata": {},
   "outputs": [],
   "source": [
    "sns.boxplot(x='survived', y='age', data=train_df);"
   ]
  },
  {
   "cell_type": "markdown",
   "metadata": {},
   "source": [
    "Nous pouvons visualiser mieux en ajoutant de la couleur aux classes (`hue`)."
   ]
  },
  {
   "cell_type": "code",
   "execution_count": null,
   "metadata": {},
   "outputs": [],
   "source": [
    "sns.boxplot(x='survived', hue='pclass', y='age', data=train_df);"
   ]
  },
  {
   "cell_type": "markdown",
   "metadata": {},
   "source": [
    "Difficile de conclure quoi que ce soit. Faisons-le d'une autre manière en catégorisant par age et en utilisant un diagramme en bâtons."
   ]
  },
  {
   "cell_type": "code",
   "execution_count": null,
   "metadata": {},
   "outputs": [],
   "source": [
    "train_df['age_cat'] = train_df['age'].apply(lambda age: 1 if age < 30 \n",
    "                                            else 3 if age > 55 else 2);"
   ]
  },
  {
   "cell_type": "code",
   "execution_count": null,
   "metadata": {},
   "outputs": [],
   "source": [
    "pd.crosstab(train_df['age_cat'], train_df['survived'])"
   ]
  },
  {
   "cell_type": "code",
   "execution_count": null,
   "metadata": {},
   "outputs": [],
   "source": [
    "sns.countplot(x='age_cat', hue='survived', data=train_df);"
   ]
  },
  {
   "cell_type": "markdown",
   "metadata": {},
   "source": [
    "On aurait pu deviner que la fraction de passagers survivants est plus faible chez les personnes âgées. Cependant, il y a trop peu d'exemples pour formuler des conclusions sérieuses."
   ]
  },
  {
   "cell_type": "markdown",
   "metadata": {
    "colab_type": "text",
    "id": "462OA5bxS4tt"
   },
   "source": [
    "# Sources\n",
    "\n",
    "[1] http://rpubs.com/jrauser/hhsd_notes\n",
    "\n",
    "[2] https://mlcourse.ai/\n"
   ]
  }
 ],
 "metadata": {
  "colab": {
   "collapsed_sections": [],
   "default_view": {},
   "name": "DataPrep.ipynb",
   "provenance": [],
   "version": "0.3.2",
   "views": {}
  },
  "kernelspec": {
   "display_name": "Python 3",
   "language": "python",
   "name": "python3"
  },
  "language_info": {
   "codemirror_mode": {
    "name": "ipython",
    "version": 3
   },
   "file_extension": ".py",
   "mimetype": "text/x-python",
   "name": "python",
   "nbconvert_exporter": "python",
   "pygments_lexer": "ipython3",
   "version": "3.6.6"
  },
  "toc": {
   "base_numbering": 1.0,
   "nav_menu": {},
   "number_sections": true,
   "sideBar": true,
   "skip_h1_title": false,
   "title_cell": "Table of Contents",
   "title_sidebar": "Contents",
   "toc_cell": false,
   "toc_position": {},
   "toc_section_display": true,
   "toc_window_display": false
  },
  "varInspector": {
   "cols": {
    "lenName": 16.0,
    "lenType": 16.0,
    "lenVar": 40.0
   },
   "kernels_config": {
    "python": {
     "delete_cmd_postfix": "",
     "delete_cmd_prefix": "del ",
     "library": "var_list.py",
     "varRefreshCmd": "print(var_dic_list())"
    },
    "r": {
     "delete_cmd_postfix": ") ",
     "delete_cmd_prefix": "rm(",
     "library": "var_list.r",
     "varRefreshCmd": "cat(var_dic_list()) "
    }
   },
   "types_to_exclude": [
    "module",
    "function",
    "builtin_function_or_method",
    "instance",
    "_Feature"
   ],
   "window_display": false
  }
 },
 "nbformat": 4,
 "nbformat_minor": 2
}
